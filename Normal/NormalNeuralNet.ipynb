{
 "cells": [
  {
   "cell_type": "markdown",
   "metadata": {},
   "source": [
    "Imports"
   ]
  },
  {
   "cell_type": "code",
   "execution_count": 1,
   "metadata": {},
   "outputs": [],
   "source": [
    "import numpy as np\n",
    "import random"
   ]
  },
  {
   "cell_type": "markdown",
   "metadata": {},
   "source": [
    "Other Functions"
   ]
  },
  {
   "cell_type": "code",
   "execution_count": 2,
   "metadata": {},
   "outputs": [],
   "source": [
    "def getRandThousandths() -> float :\n",
    "    return random.randrange( 1, 999, 1 ) / 1000\n",
    "\n",
    "def accuracy( array1:list, array2:list ) :\n",
    "    assert len( array1 ) == len( array2 ), f'Array Lengths Must Be Equal For Accuracy\\n\\t{ array1 } != { array2 }'\n",
    "    \n",
    "    totalIncorrect = 0.0\n",
    "    \n",
    "    for i in range( 0, len( array1 ) ) :\n",
    "        if array1[ i ] != array2[ i ] : totalIncorrect += 1\n",
    "        \n",
    "    return totalIncorrect / len( array1 )\n",
    "    \n",
    "def sqrtDiff( array1:list, array2:list ) :\n",
    "    assert len( array1 ) == len( array2 ), f'Array Lengths Must Be Equal For Square Root Difference\\n\\t{ array1 } != { array2 }'\n",
    "    \n",
    "    error = 0.0\n",
    "    \n",
    "    for i in range( 0, len( array1 ) ) :\n",
    "        error += np.sqrt( ( array1[ i ] * array1[ i ] ) + ( array2[ i ] * array2[ i ] ) )\n",
    "            \n",
    "    return error / len( array1 )"
   ]
  },
  {
   "cell_type": "markdown",
   "metadata": {},
   "source": [
    "Activation Functions Class"
   ]
  },
  {
   "cell_type": "code",
   "execution_count": 3,
   "metadata": {},
   "outputs": [],
   "source": [
    "def tanh( x ) :\n",
    "    return np.tanh( x )\n",
    "\n",
    "def dtanh( x ) :\n",
    "    return 1 - ( tanh( x ) * tanh( x ) )"
   ]
  },
  {
   "cell_type": "markdown",
   "metadata": {},
   "source": [
    "Layer Class"
   ]
  },
  {
   "cell_type": "code",
   "execution_count": 4,
   "metadata": {},
   "outputs": [],
   "source": [
    "class Layer :\n",
    "    \n",
    "    def __init__( self, inputShape:list,  numberOfNodes:int, activationFunction:callable, weightsRandomizer:callable ) -> None:\n",
    "        \n",
    "        assert numberOfNodes > 0, \"A Layer Must Contain More Than 0 Nodes\"\n",
    "        \n",
    "        self.inputShape = inputShape\n",
    "        self.numberOfNodes = numberOfNodes\n",
    "        self.outputShape = numberOfNodes\n",
    "        self.activationFunction = activationFunction\n",
    "        \n",
    "        self.weights = []\n",
    "        self.initWeights( numberOfNodes, weightsRandomizer )\n",
    "    \n",
    "    def initWeights( self, numberOfNodes, weightsRandomizer ) :\n",
    "        \n",
    "        w = np.random.randn( self.inputShape + 1, self.outputShape + 1 )\n",
    "        \n",
    "        self.weights = w / np.sqrt( self.inputShape)        \n",
    "\n",
    "        # for i in range( 0, self.inputShape ):\n",
    "\n",
    "        #     weightsPerInput = []\n",
    "\n",
    "        #     for node in range( 0, numberOfNodes ) :\n",
    "        #         weightsPerInput.append( weightsRandomizer() )\n",
    "\n",
    "        #     weightsPerInput.append()\n",
    "\n",
    "        #     self.weights.append(weightsPerInput)\n",
    "\n",
    "\n",
    "        #Bias\n",
    "        # self.weights.append( random.randrange( 1, 999, 1 ) / 1000 )"
   ]
  },
  {
   "cell_type": "markdown",
   "metadata": {},
   "source": [
    "Neural Net Class"
   ]
  },
  {
   "cell_type": "code",
   "execution_count": 5,
   "metadata": {},
   "outputs": [],
   "source": [
    "class NeuralNet :\n",
    "    \n",
    "    def __init__( self, loss:callable = sqrtDiff, weightsRandomizer:callable = getRandThousandths ) -> None :\n",
    "        self.layers = []\n",
    "        self.weightsRandomizer=weightsRandomizer\n",
    "        self.lossFunc = loss\n",
    "    \n",
    "    def addLayer( self, inputShape=None, numberOfNodes=0, activationFunction:callable=tanh ) -> None :\n",
    "        \n",
    "        if len( self.layers ) == 0 :\n",
    "                        \n",
    "            assert type( inputShape ) == int\n",
    "            assert inputShape > 0\n",
    "            \n",
    "            self.layers.append( Layer( inputShape, numberOfNodes, activationFunction, self.weightsRandomizer ) )\n",
    "            \n",
    "        else : \n",
    "            self.layers.append( Layer( self.layers[ -1 ].outputShape, numberOfNodes, activationFunction, self.weightsRandomizer ) )\n",
    "  \n",
    "    def sigmoid_transfer( self, output ) :\n",
    "        return output * ( 1 - output )        \n",
    "        \n",
    "            \n",
    "    def trainModel( self, input, correctData, metric:callable=None ) :\n",
    "        \n",
    "        assert type( input ) == list, \"Input Data For Testing Must Be a List\"\n",
    "        assert type( correctData ) == list, \"Correct Answers For Testing Must Be a List\"\n",
    "        \n",
    "        #Multiple Training Examples\n",
    "        if all( isinstance( item, list ) for item in input ) :\n",
    "                        \n",
    "            predictions = []\n",
    "            \n",
    "            for example in input :\n",
    "                assert len( example ) == self.layers[0].inputShape, \"Training Examples Must Be of size : \" + str( self.layers[0].inputShape )\n",
    "                predictions.append( self.forwardPropigate( example ) )\n",
    "        \n",
    "            metricResult = self.checkMetric( predictions, correctData )\n",
    "            return predictions, metricResult\n",
    "        \n",
    "        #Single training Example    \n",
    "        else : \n",
    "            \n",
    "            assert len( input ) == self.layers[0].inputShape, \"Training Example Must Be of size : \" + str( self.layers[0].inputShape )\n",
    "            prediction = self.forwardPropigate( input )\n",
    "            \n",
    "            metricResult = self.checkMetric( prediction, correctData )\n",
    "            print(metricResult)\n",
    "            return prediction, metricResult\n",
    "    \n",
    "    def testModel( self, input ) :\n",
    "        \n",
    "        assert type( input ) == list, \"Input Data For Testing Must Be a List\"\n",
    "        \n",
    "        #Multiple Training Examples\n",
    "        if all( isinstance( item, list ) for item in input ) :\n",
    "                        \n",
    "            predictions = []\n",
    "            \n",
    "            for example in input :\n",
    "                assert len( example ) == self.layers[0].inputShape, \"Training Examples Must Be of size : \" + str( self.layers[0].inputShape )\n",
    "                predictions.append( self.forwardPropigate( example ) )\n",
    "        \n",
    "            return predictions\n",
    "        \n",
    "        #Single training Example    \n",
    "        else : \n",
    "            \n",
    "            assert len( input ) == self.layers[0].inputShape, \"Training Example Must Be of size : \" + str( self.layers[0].inputShape )\n",
    "            prediction = self.forwardPropigate( input )\n",
    "                    \n",
    "            return prediction\n",
    "    \n",
    "    def forwardPropigate( self, testData ) :\n",
    "        \n",
    "        passDownArray = testData            \n",
    "                \n",
    "        for layer in self.layers :\n",
    "            \n",
    "            passDownArray = self.activationFunction( np.matmul( passDownArray, layer.weights ), layer )\n",
    "                                \n",
    "        return passDownArray\n",
    "    \n",
    "    def activationFunction( self, array, layer ) :\n",
    "        return [ layer.activationFunction( x )  for x in array ]\n",
    "          \n",
    "    def checkMetric( self, predictionArray:list, answerArray:list, metric:callable=None ) :\n",
    "        \n",
    "        if metric == None : return self.lossFunc( predictionArray, answerArray )\n",
    "        else : return metric( predictionArray, answerArray )\n",
    "            \n",
    "    def printLayer( self, layer ) :\n",
    "        print( \"Input Shape :\", layer.inputShape, ': Output Shape :', layer.outputShape, \": Activation Function :\", layer.activationFunction )\n",
    "    \n",
    "    def printNetwork( self ) :\n",
    "        \n",
    "        for layer in self.layers :\n",
    "            print( \"Input Shape :\", layer.inputShape,\n",
    "                  ': Output Shape :', layer.outputShape,\n",
    "                  \": Activation Function :\", layer.activationFunction,\n",
    "                  \"\\n\\tLayer Weights :\", layer.weights\n",
    "                )"
   ]
  },
  {
   "cell_type": "markdown",
   "metadata": {},
   "source": [
    "Test Add Layer"
   ]
  },
  {
   "cell_type": "code",
   "execution_count": 6,
   "metadata": {},
   "outputs": [
    {
     "name": "stdout",
     "output_type": "stream",
     "text": [
      "Input Shape : 3 : Output Shape : 2 : Activation Function : <function tanh at 0x0000012EBACDE040> \n",
      "\tLayer Weights : [[ 1.15166922 -0.35063491 -0.12706866]\n",
      " [ 0.15598088 -0.69955787 -1.18394052]\n",
      " [-1.0760472   0.44118259  0.09926373]\n",
      " [-0.25203149  0.01804891 -0.67423979]]\n",
      "Input Shape : 2 : Output Shape : 3 : Activation Function : <function tanh at 0x0000012EBACDE040> \n",
      "\tLayer Weights : [[ 0.99031251 -0.25595901 -0.21002197 -1.24067015]\n",
      " [ 0.23778445 -0.22389616 -0.16517117 -1.20140214]\n",
      " [ 0.74102115  0.29728229 -0.76755629  0.55818772]]\n",
      "Input Shape : 3 : Output Shape : 2 : Activation Function : <function tanh at 0x0000012EBACDE040> \n",
      "\tLayer Weights : [[-0.26120922 -0.51405569  0.43544047]\n",
      " [-0.37397311  0.08967413  0.172106  ]\n",
      " [-0.30142258 -0.73219161 -1.10876833]\n",
      " [ 0.43027369  0.47187802 -0.03097659]]\n",
      "Input Shape : 2 : Output Shape : 1 : Activation Function : <function tanh at 0x0000012EBACDE040> \n",
      "\tLayer Weights : [[ 1.60833111 -0.39090556]\n",
      " [ 0.64481402 -0.9144462 ]\n",
      " [ 0.37011144  0.29394234]]\n"
     ]
    },
    {
     "ename": "ValueError",
     "evalue": "matmul: Input operand 1 has a mismatch in its core dimension 0, with gufunc signature (n?,k),(k,m?)->(n?,m?) (size 4 is different from 3)",
     "output_type": "error",
     "traceback": [
      "\u001b[1;31m---------------------------------------------------------------------------\u001b[0m",
      "\u001b[1;31mValueError\u001b[0m                                Traceback (most recent call last)",
      "Cell \u001b[1;32mIn [6], line 10\u001b[0m\n\u001b[0;32m      6\u001b[0m N\u001b[39m.\u001b[39maddLayer( numberOfNodes\u001b[39m=\u001b[39m\u001b[39m1\u001b[39m )\n\u001b[0;32m      8\u001b[0m N\u001b[39m.\u001b[39mprintNetwork()\n\u001b[1;32m---> 10\u001b[0m \u001b[39mprint\u001b[39m( \u001b[39m'\u001b[39m\u001b[39mResult =\u001b[39m\u001b[39m'\u001b[39m, N\u001b[39m.\u001b[39;49mtrainModel( [ \u001b[39m1\u001b[39;49m, \u001b[39m1\u001b[39;49m, \u001b[39m1\u001b[39;49m ], [ \u001b[39m1\u001b[39;49m ] ) )\n",
      "Cell \u001b[1;32mIn [5], line 45\u001b[0m, in \u001b[0;36mNeuralNet.trainModel\u001b[1;34m(self, input, correctData, metric)\u001b[0m\n\u001b[0;32m     41\u001b[0m \u001b[39m#Single training Example    \u001b[39;00m\n\u001b[0;32m     42\u001b[0m \u001b[39melse\u001b[39;00m : \n\u001b[0;32m     44\u001b[0m     \u001b[39massert\u001b[39;00m \u001b[39mlen\u001b[39m( \u001b[39minput\u001b[39m ) \u001b[39m==\u001b[39m \u001b[39mself\u001b[39m\u001b[39m.\u001b[39mlayers[\u001b[39m0\u001b[39m]\u001b[39m.\u001b[39minputShape, \u001b[39m\"\u001b[39m\u001b[39mTraining Example Must Be of size : \u001b[39m\u001b[39m\"\u001b[39m \u001b[39m+\u001b[39m \u001b[39mstr\u001b[39m( \u001b[39mself\u001b[39m\u001b[39m.\u001b[39mlayers[\u001b[39m0\u001b[39m]\u001b[39m.\u001b[39minputShape )\n\u001b[1;32m---> 45\u001b[0m     prediction \u001b[39m=\u001b[39m \u001b[39mself\u001b[39;49m\u001b[39m.\u001b[39;49mforwardPropigate( \u001b[39minput\u001b[39;49m )\n\u001b[0;32m     47\u001b[0m     metricResult \u001b[39m=\u001b[39m \u001b[39mself\u001b[39m\u001b[39m.\u001b[39mcheckMetric( prediction, correctData )\n\u001b[0;32m     48\u001b[0m     \u001b[39mprint\u001b[39m(metricResult)\n",
      "Cell \u001b[1;32mIn [5], line 80\u001b[0m, in \u001b[0;36mNeuralNet.forwardPropigate\u001b[1;34m(self, testData)\u001b[0m\n\u001b[0;32m     76\u001b[0m passDownArray \u001b[39m=\u001b[39m testData            \n\u001b[0;32m     78\u001b[0m \u001b[39mfor\u001b[39;00m layer \u001b[39min\u001b[39;00m \u001b[39mself\u001b[39m\u001b[39m.\u001b[39mlayers :\n\u001b[1;32m---> 80\u001b[0m     passDownArray \u001b[39m=\u001b[39m \u001b[39mself\u001b[39m\u001b[39m.\u001b[39mactivationFunction( np\u001b[39m.\u001b[39;49mmatmul( passDownArray, layer\u001b[39m.\u001b[39;49mweights ), layer )\n\u001b[0;32m     82\u001b[0m \u001b[39mreturn\u001b[39;00m passDownArray\n",
      "\u001b[1;31mValueError\u001b[0m: matmul: Input operand 1 has a mismatch in its core dimension 0, with gufunc signature (n?,k),(k,m?)->(n?,m?) (size 4 is different from 3)"
     ]
    }
   ],
   "source": [
    "N = NeuralNet()\n",
    "\n",
    "N.addLayer( inputShape=3, numberOfNodes=2 )\n",
    "N.addLayer( numberOfNodes=3 )\n",
    "N.addLayer( numberOfNodes=2 )\n",
    "N.addLayer( numberOfNodes=1 )\n",
    "\n",
    "N.printNetwork()\n",
    "\n",
    "print( 'Result =', N.trainModel( [ 1, 1, 1 ], [ 1 ] ) )\n",
    "# N.testModel( [ [ 1, 1, 1], [ 0.5, 0.5, 0.5] ] )"
   ]
  }
 ],
 "metadata": {
  "kernelspec": {
   "display_name": "Python 3",
   "language": "python",
   "name": "python3"
  },
  "language_info": {
   "codemirror_mode": {
    "name": "ipython",
    "version": 3
   },
   "file_extension": ".py",
   "mimetype": "text/x-python",
   "name": "python",
   "nbconvert_exporter": "python",
   "pygments_lexer": "ipython3",
   "version": "3.10.8 (tags/v3.10.8:aaaf517, Oct 11 2022, 16:50:30) [MSC v.1933 64 bit (AMD64)]"
  },
  "orig_nbformat": 4,
  "vscode": {
   "interpreter": {
    "hash": "ed0d906ee97c13c1e82a74d4d376a6c790176346726ae93fa90d395d0e7494b2"
   }
  }
 },
 "nbformat": 4,
 "nbformat_minor": 2
}
